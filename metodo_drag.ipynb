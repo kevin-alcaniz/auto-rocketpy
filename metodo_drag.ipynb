{
 "cells": [
  {
   "cell_type": "code",
   "execution_count": null,
   "metadata": {},
   "outputs": [
    {
     "data": {
      "text/plain": [
       "<module 'simulador' from 'c:\\\\Users\\\\kevin\\\\OneDrive - UPV\\\\auto-rocketpy\\\\simulador.py'>"
      ]
     },
     "execution_count": 1,
     "metadata": {},
     "output_type": "execute_result"
    }
   ],
   "source": [
    "### TESTER DE AUTO-ROCKETPY ###\n",
    "\n",
    "import auto_rocketpy as sim\n",
    "import rocket_data as rdata\n",
    "from datcom import DATCOM\n",
    "from rocketpy import Environment, SolidMotor, NoseCone, TrapezoidalFins, Rocket\n",
    "import numpy as np\n",
    "import datetime\n",
    "\n",
    "import importlib\n",
    "importlib.reload(sim)"
   ]
  },
  {
   "cell_type": "code",
   "execution_count": 2,
   "metadata": {},
   "outputs": [],
   "source": [
    "### SE CARGAN LOS DATOS DE LA SIMULACIÓN\n",
    "\n",
    "data = rdata.load_rocket_data(0)\n",
    "datcom = DATCOM('D:\\\\DATCOM')"
   ]
  },
  {
   "cell_type": "code",
   "execution_count": 3,
   "metadata": {},
   "outputs": [],
   "source": [
    "### DEFINICIÓN DE LA ATMÓSFERA\n",
    "\n",
    "# Se define la clase Environment\n",
    "env = Environment(\n",
    "    latitude = data['latitud_base'],\n",
    "    longitude = data['longitud_base'],\n",
    "    elevation = data['elevacion_base']\n",
    ")\n",
    "\n",
    "# Perfil lineal del viento\n",
    "m = (data['viento_mag_10'] - data['viento_mag_0']) / 10000\n",
    "\n",
    "perfil_viento_u = list()\n",
    "perfil_viento_v = list()\n",
    "for h in list(range(0,10000 + 1,30)):\n",
    "    magnitud_viento = m*h + data['viento_mag_0']  # Ecuación de la recta\n",
    "    viento_u = magnitud_viento * np.sin( data['viento_heading'] * np.pi/180 ) # Componente dirección Este\n",
    "    viento_v = magnitud_viento * np.cos( data['viento_heading'] * np.pi/180 ) # COmponente dirección Norte\n",
    "    perfil_viento_u.append([h,viento_u])\n",
    "    perfil_viento_v.append([h,viento_v])\n",
    "\n",
    "# Fecha del lanzamiento\n",
    "tomorrow = datetime.date.today() + datetime.timedelta(days=1)\n",
    "env.set_date(\n",
    "    (tomorrow.year, tomorrow.month, tomorrow.day, 12)\n",
    ")\n",
    "\n",
    "# Se carga el perfil de viento\n",
    "env.set_atmospheric_model(\n",
    "    type=\"custom_atmosphere\",\n",
    "    wind_u = perfil_viento_u,\n",
    "    wind_v = perfil_viento_v,\n",
    ")\n",
    "env.max_expected_height = 4000"
   ]
  },
  {
   "cell_type": "code",
   "execution_count": 4,
   "metadata": {},
   "outputs": [],
   "source": [
    "### DEFINICIÓN DEL MOTOR\n",
    "\n",
    "motor = SolidMotor(\n",
    "    thrust_source = 'validation files/' + data['thrust_source'],\n",
    "    dry_mass = data['motor_dry_mass'],\n",
    "    dry_inertia = (\n",
    "        data['motor_I11'],\n",
    "        data['motor_I11'],\n",
    "        data['motor_I33'],\n",
    "    ),\n",
    "    nozzle_radius = data['motor_nozzle_radius'],\n",
    "    grain_number = data['grain_number'],\n",
    "    grain_density = data['grain_density'],\n",
    "    grain_outer_radius = data['grain_outer_radius'],\n",
    "    grain_initial_inner_radius = data['grain_initial_inner_radius'],\n",
    "    grain_initial_height = data['grain_height'],\n",
    "    grain_separation = data['grain_separation'],\n",
    "    grains_center_of_mass_position = data['cdg_grain'],\n",
    "    center_of_dry_mass_position = data['motor_dry_cdg'],\n",
    "    nozzle_position = 0,\n",
    "    throat_radius = data['throat_radius'],\n",
    "    burn_time = data['burnout_time'],\n",
    "    coordinate_system_orientation = \"nozzle_to_combustion_chamber\",\n",
    ")"
   ]
  },
  {
   "cell_type": "code",
   "execution_count": 5,
   "metadata": {},
   "outputs": [],
   "source": [
    "### DEFINICIÓN DE LAS SUPERFICIES AERODINÁMICAS\n",
    "\n",
    "# Nose cone\n",
    "nose_cone = NoseCone(\n",
    "    length = data['longitud_nose_cone'],\n",
    "    kind = data['tipo_nose_cone_rocketpy'],\n",
    "    base_radius = data['radius'],\n",
    "    bluffness = None,\n",
    "    rocket_radius = data['radius'],\n",
    "    name = \"Nose Cone\",\n",
    ")\n",
    "\n",
    "# Aletas\n",
    "aletas = TrapezoidalFins(\n",
    "    n = data['fins_number'],\n",
    "    root_chord = data['fins_root_chord'],\n",
    "    tip_chord = data['fins_tip_chord'],\n",
    "    span = data['fins_span'],\n",
    "    rocket_radius = data['radius'],\n",
    "    sweep_length = data['fins_sweep_lenght'],\n",
    "    name = \"Aletas\",     \n",
    ")"
   ]
  },
  {
   "cell_type": "code",
   "execution_count": 6,
   "metadata": {},
   "outputs": [],
   "source": [
    "# SE DEFINE EL COHETE\n",
    "\n",
    "rocket = Rocket(\n",
    "    radius = data['radius'],\n",
    "    mass = data['no_motor_mass'],\n",
    "    inertia = (\n",
    "        data['inercia_I11'],\n",
    "        data['inercia_I11'],\n",
    "        data['inercia_I33'],\n",
    "    ),\n",
    "    power_off_drag = 0,\n",
    "    power_on_drag = 0,\n",
    "    center_of_mass_without_motor = data['cdg_no_motor'],\n",
    "    coordinate_system_orientation = \"nose_to_tail\",\n",
    ")\n",
    "rocket.add_motor(motor,data['longitud'])\n",
    "rocket.add_surfaces(nose_cone,0)\n",
    "rocket.add_surfaces(aletas,data['fins_posicion'])"
   ]
  },
  {
   "cell_type": "code",
   "execution_count": null,
   "metadata": {},
   "outputs": [
    {
     "name": "stdout",
     "output_type": "stream",
     "text": [
      "Archivo 'validation files/auto_drag_test_2.csv' creado con éxito.\n"
     ]
    }
   ],
   "source": [
    "## BUCLE DE LA SIMULACIÓN\n",
    "\n",
    "# Inicialización de la simulación\n",
    "results,flight = sim.flight_initialization(data,rocket,env)\n",
    "\n",
    "# Bucle de la simulación\n",
    "while flight.apogee_time == 0:\n",
    "\n",
    "    results,flight = sim.flight_simulation(\n",
    "        data,\n",
    "        results,\n",
    "        rocket,\n",
    "        env,\n",
    "        flight,\n",
    "        datcom,\n",
    "        method='drag',\n",
    "    )\n",
    "\n",
    "results.export('auto_drag_test.csv','t','x','y','z','vx','vy','vz','w1','w2','w3','R3')"
   ]
  }
 ],
 "metadata": {
  "kernelspec": {
   "display_name": "Python 3",
   "language": "python",
   "name": "python3"
  },
  "language_info": {
   "codemirror_mode": {
    "name": "ipython",
    "version": 3
   },
   "file_extension": ".py",
   "mimetype": "text/x-python",
   "name": "python",
   "nbconvert_exporter": "python",
   "pygments_lexer": "ipython3",
   "version": "3.12.9"
  }
 },
 "nbformat": 4,
 "nbformat_minor": 2
}
