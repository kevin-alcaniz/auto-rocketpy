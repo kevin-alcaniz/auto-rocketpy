{
 "cells": [
  {
   "cell_type": "code",
   "execution_count": 6,
   "metadata": {},
   "outputs": [],
   "source": [
    "###### FARADAY ROCKETRY UPV ######\n",
    "\n",
    "# Script con las intrucciones para crear los coeficientes\n",
    "# aerodinámicos utilizados en las simulaciones.\n",
    "# Para cohete mono etapa.\n",
    "\n",
    "## 21 de febrero del 2025"
   ]
  },
  {
   "cell_type": "code",
   "execution_count": 7,
   "metadata": {},
   "outputs": [],
   "source": [
    "# SE IMPORTAN LOS MÓDULOS NECESARIOS\n",
    "\n",
    "import numpy as np\n",
    "\n",
    "from datcom import DATCOM\n",
    "\n",
    "import rocket_data as datos_cohete\n"
   ]
  },
  {
   "cell_type": "code",
   "execution_count": 8,
   "metadata": {},
   "outputs": [],
   "source": [
    "#### RELLENA ESTOS DATOS ANTES DE CONTINUAR ####\n",
    "\n",
    "# Se define el objeto de la clase DATCOM\n",
    "datcom = DATCOM('D:\\\\DATCOM')\n",
    "\n",
    "# Define las variables independientes para las que quieres calcular los coeficientes\n",
    "machs = [0.01,0.1,0.2,0.3,0.4,0.5,0.6,0.7,0.8,0.9,1]\n",
    "alphas = [0] # En deg\n",
    "betas = [0] # En deg\n",
    "\n",
    "# ¿Qué altitudes corresponden a cada número de Mach?\n",
    "altitudes = [3800,3800,3800,3500,3200,2800,2500,2000,1500,1100,1000] # En metros\n",
    "# altitudes = [0,100,200,300,400,500,600,700,800,900,1000]\n",
    "\n",
    "# Motor encendido (True), motor apagado (False)\n",
    "motor = False"
   ]
  },
  {
   "cell_type": "code",
   "execution_count": 9,
   "metadata": {},
   "outputs": [],
   "source": [
    "### SE LEEN LOS DATOS DEL COHETE ###\n",
    "\n",
    "# (TODO: Hay que crear una función para cargar los datos automáticamente)\n",
    "# Introducir a mano por ahora\n",
    "datos_mono_etapa = {\n",
    "    'radius':datos_cohete.Skybreaker_radius,\n",
    "    'center_of_dry_mass':datos_cohete.Skybreaker_center_of_dry_mass_position,\n",
    "    'RHR':datos_cohete.Skybreaker_RHR,\n",
    "    'tipo_nose_cone':datos_cohete.Skybreaker_nosecone_type_DATCOM,\n",
    "    'longitud_nose_cone':datos_cohete.Skybreaker_nosecone_length,\n",
    "    'longitud':datos_cohete.Skybreaker_length,\n",
    "    'fins_span':datos_cohete.Skybreaker_fins_span,\n",
    "    'fins_root_chord':datos_cohete.Skybreaker_fins_root_chord,\n",
    "    'fins_tip_chord':datos_cohete.Skybreaker_fins_tip_chord,\n",
    "    'fins_posicion':datos_cohete.Skybreaker_fins_position,\n",
    "    'fins_sweep_lenght':datos_cohete.Skybreaker_fins_sweep_length,\n",
    "    'fins_number':datos_cohete.Skybreaker_fins_number,\n",
    "    'fins_roll_position':datos_cohete.Skybreaker_fins_roll_position,\n",
    "    'fins_zupper':datos_cohete.Skybreaker_fins_zupper,\n",
    "    'fins_lmaxu':datos_cohete.Skybreaker_fins_lmaxu,\n",
    "    'fins_lflatu':datos_cohete.Skybreaker_fins_lflatu,\n",
    "    'motor_nozzle_radius':datos_cohete.Skybreaker_motor_nozzle_radius,\n",
    "}"
   ]
  },
  {
   "cell_type": "code",
   "execution_count": 11,
   "metadata": {},
   "outputs": [
    {
     "name": "stdout",
     "output_type": "stream",
     "text": [
      "Archivos CSV generados con éxito en: COEFICIENTES/DATCOM\n",
      "El archivo skybreaker_power_off_drag_datcom.csv ha sido generado con éxito\n"
     ]
    }
   ],
   "source": [
    "### MODELO COHETE MONO ETAPA ###\n",
    "\n",
    "# Instrucciones DATCOM\n",
    "# for005 = datcom.for005_mono_etapa(datos_mono_etapa,machs,alphas,betas,altitudes,motor_on=motor)\n",
    "# datcom.escribir_for005(for005)\n",
    "datcom.ejecutar_datcom()\n",
    "for004 = datcom.leer_for004()\n",
    "coeficientes_datcom = datcom.definir_coeficientes_datcom(for004,machs,alphas,betas)\n",
    "datcom.generar_csvs(coeficientes_datcom,'COEFICIENTES/DATCOM')\n",
    "datcom.convertir_a_mach_vs_coeficiente('COEFICIENTES/DATCOM/CA0.csv','skybreaker_power_off_drag_datcom.csv')"
   ]
  }
 ],
 "metadata": {
  "kernelspec": {
   "display_name": "Python 3",
   "language": "python",
   "name": "python3"
  },
  "language_info": {
   "codemirror_mode": {
    "name": "ipython",
    "version": 3
   },
   "file_extension": ".py",
   "mimetype": "text/x-python",
   "name": "python",
   "nbconvert_exporter": "python",
   "pygments_lexer": "ipython3",
   "version": "3.12.9"
  }
 },
 "nbformat": 4,
 "nbformat_minor": 2
}
