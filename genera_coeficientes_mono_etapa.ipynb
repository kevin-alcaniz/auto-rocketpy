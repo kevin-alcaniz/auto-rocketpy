{
 "cells": [
  {
   "cell_type": "code",
   "execution_count": 4,
   "metadata": {},
   "outputs": [],
   "source": [
    "###### FARADAY ROCKETRY UPV ######\n",
    "\n",
    "# Script con las intrucciones para crear los coeficientes\n",
    "# aerodinámicos utilizados en las simulaciones.\n",
    "# Para cohete mono etapa.\n",
    "\n",
    "## 9 de marzo del 2025"
   ]
  },
  {
   "cell_type": "code",
   "execution_count": 1,
   "metadata": {},
   "outputs": [],
   "source": [
    "# SE IMPORTAN LOS MÓDULOS NECESARIOS\n",
    "\n",
    "from datcom import DATCOM\n",
    "import rocket_data as data"
   ]
  },
  {
   "cell_type": "code",
   "execution_count": 2,
   "metadata": {},
   "outputs": [],
   "source": [
    "#### RELLENA ESTOS DATOS ANTES DE CONTINUAR ####\n",
    "\n",
    "# Define la clase DATCOM con la ubicación de la carpeta 'datcom.exe'\n",
    "datcom = DATCOM('D:\\\\DATCOM')\n",
    "\n",
    "# Carga los datos del cohete\n",
    "delta = 0  # Posición del aerofreno\n",
    "datos_cohete = data.load_rocket_data(delta)\n",
    "\n",
    "# Define las variables independientes para las que quieres calcular los coeficientes\n",
    "machs = [0.01,0.1,0.2,0.5,0.75,1]\n",
    "alphas = [-2,-1,0,1,2] # En deg\n",
    "betas = [-2,-1,0,1,2] # En deg\n",
    "\n",
    "# ¿Qué altitudes corresponden a cada número de Mach?\n",
    "altitudes = [0,100,200,300,400,500] # En metros\n",
    "\n",
    "# Motor encendido (True), motor apagado (False)\n",
    "motor = True"
   ]
  },
  {
   "cell_type": "code",
   "execution_count": null,
   "metadata": {},
   "outputs": [
    {
     "name": "stdout",
     "output_type": "stream",
     "text": [
      "Archivos CSV generados con éxito en: COEFICIENTES/SKYBREAKER/DATCOM\n",
      "Archivos CSV generados con éxito en: COEFICIENTES/SKYBREAKER/ROCKETPY\n"
     ]
    }
   ],
   "source": [
    "### MODELO COHETE MONO ETAPA ###\n",
    "\n",
    "# Instrucciones DATCOM\n",
    "for005 = datcom.for005_mono_etapa(datos_cohete,machs,alphas,betas,altitudes,motor_on=motor,aerofreno=True)\n",
    "datcom.escribir_for005(for005)\n",
    "datcom.ejecutar_datcom()\n",
    "for004 = datcom.leer_for004()\n",
    "coeficientes_datcom = datcom.definir_coeficientes_datcom(for004,machs,alphas,betas)\n",
    "coeficientes_rocketpy = datcom.transformar_coeficientes_a_rocketpy(coeficientes_datcom,machs,alphas,betas)\n",
    "datcom.generar_csvs(coeficientes_datcom,'COEFICIENTES/MONO ETAPA/DATCOM')\n",
    "datcom.generar_csvs(coeficientes_rocketpy,'COEFICIENTES/MONO ETAPA/ROCKETPY')"
   ]
  }
 ],
 "metadata": {
  "kernelspec": {
   "display_name": "Python 3",
   "language": "python",
   "name": "python3"
  },
  "language_info": {
   "codemirror_mode": {
    "name": "ipython",
    "version": 3
   },
   "file_extension": ".py",
   "mimetype": "text/x-python",
   "name": "python",
   "nbconvert_exporter": "python",
   "pygments_lexer": "ipython3",
   "version": "3.12.9"
  }
 },
 "nbformat": 4,
 "nbformat_minor": 2
}
